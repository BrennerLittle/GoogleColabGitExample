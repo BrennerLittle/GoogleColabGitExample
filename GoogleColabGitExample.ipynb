{
  "nbformat": 4,
  "nbformat_minor": 0,
  "metadata": {
    "colab": {
      "name": "Untitled11.ipynb",
      "provenance": []
    },
    "kernelspec": {
      "name": "python3",
      "display_name": "Python 3"
    },
    "language_info": {
      "name": "python"
    }
  },
  "cells": [
    {
      "cell_type": "code",
      "metadata": {
        "id": "yM8EbNSiXRYU"
      },
      "source": [
        "urls = ['https://github.com/TheAlgorithms/C.git','https://github.com/torvalds/linux.git','https://github.com/freebsd/freebsd-src.git','https://github.com/git/git.git']"
      ],
      "execution_count": null,
      "outputs": []
    },
    {
      "cell_type": "code",
      "metadata": {
        "colab": {
          "base_uri": "https://localhost:8080/"
        },
        "id": "mEU3EXlMasj_",
        "outputId": "b43aa79c-006e-47c2-851a-35bbf315d2de"
      },
      "source": [
        "\n",
        "!git clone {urls[0]}"
      ],
      "execution_count": null,
      "outputs": [
        {
          "output_type": "stream",
          "text": [
            "Cloning into 'C'...\n",
            "remote: Enumerating objects: 18213, done.\u001b[K\n",
            "remote: Counting objects: 100% (37/37), done.\u001b[K\n",
            "remote: Compressing objects: 100% (32/32), done.\u001b[K\n",
            "remote: Total 18213 (delta 9), reused 22 (delta 4), pack-reused 18176\u001b[K\n",
            "Receiving objects: 100% (18213/18213), 6.37 MiB | 6.28 MiB/s, done.\n",
            "Resolving deltas: 100% (13041/13041), done.\n"
          ],
          "name": "stdout"
        }
      ]
    },
    {
      "cell_type": "code",
      "metadata": {
        "id": "COsLTL5XXb8o"
      },
      "source": [
        ""
      ],
      "execution_count": null,
      "outputs": []
    }
  ]
}